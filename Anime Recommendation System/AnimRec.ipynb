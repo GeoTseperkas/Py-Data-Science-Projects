{
 "cells": [
  {
   "cell_type": "markdown",
   "id": "5f77ec85",
   "metadata": {},
   "source": [
    "# Anime Recommendation System"
   ]
  },
  {
   "cell_type": "markdown",
   "id": "b9a314e5",
   "metadata": {},
   "source": [
    "### Anime is a popular form of entertainment enjoyed by millions of people worldwide. With so many anime titles available, it can be overwhelming for fans to decide which ones to watch next. This is where a recommendation system can be helpful.\n",
    "\n",
    "### By the end of this project, we aim to build a recommendation system that suggests anime titles based on a user's preferences. This system can help fans discover new anime titles and enhance their viewing experience."
   ]
  },
  {
   "cell_type": "markdown",
   "id": "55c94ef2",
   "metadata": {},
   "source": [
    "# "
   ]
  },
  {
   "cell_type": "markdown",
   "id": "23742c91",
   "metadata": {},
   "source": [
    "# Recommendation System using Python"
   ]
  },
  {
   "cell_type": "markdown",
   "id": "3601f0ff",
   "metadata": {},
   "source": [
    "### Our project aims to build an Anime Recommendation System that provides personalized anime recommendations for users. This will help anime fans to discover new titles and enhance their viewing experience.\n",
    "\n",
    "### We will be using two CSV files in our project: Anime.csv and Rating.csv. These files contain information about anime titles and their ratings respectively. Our first step in building the recommendation system will be to explore and analyze the data in these files, and preprocess them as needed.\n",
    "\n",
    "### We will use the Python programming language and various libraries such as Pandas and NumPy to implement the recommendation system. We will also use Jupyter Notebook as our development environment, which provides an interactive interface for data exploration and analysis.\n",
    "\n",
    "### With these tools and our data, we can build a recommendation system that suggests anime titles based on a user's preferences."
   ]
  },
  {
   "cell_type": "markdown",
   "id": "83734dd0",
   "metadata": {},
   "source": [
    "# "
   ]
  },
  {
   "cell_type": "markdown",
   "id": "7391f1a0",
   "metadata": {},
   "source": [
    "## EDA and data cleaning\n",
    "\n",
    "### To ensure our Anime Recommendation System's credibility and precision, conducting both data cleaning and exploratory data analysis is pivotal."
   ]
  },
  {
   "cell_type": "markdown",
   "id": "c7f35e7e",
   "metadata": {},
   "source": [
    "### I’ll start by importing the necessary Python libraries and the dataset:"
   ]
  },
  {
   "cell_type": "code",
   "execution_count": 1,
   "id": "bd514bca",
   "metadata": {},
   "outputs": [],
   "source": [
    "import pandas as pd\n",
    "import numpy as np\n",
    "import seaborn as sns\n",
    "import matplotlib.pyplot as plt"
   ]
  },
  {
   "cell_type": "code",
   "execution_count": 2,
   "id": "18ab327a",
   "metadata": {},
   "outputs": [],
   "source": [
    "# Read the anime.csv file into a Pandas DataFrame\n",
    "anime = pd.read_csv('anime.csv')\n",
    "\n",
    "# Read the rating.csv file into a Pandas DataFrame\n",
    "rating = pd.read_csv('rating.csv')"
   ]
  },
  {
   "cell_type": "code",
   "execution_count": 3,
   "id": "0232301d",
   "metadata": {},
   "outputs": [
    {
     "data": {
      "text/html": [
       "<div>\n",
       "<style scoped>\n",
       "    .dataframe tbody tr th:only-of-type {\n",
       "        vertical-align: middle;\n",
       "    }\n",
       "\n",
       "    .dataframe tbody tr th {\n",
       "        vertical-align: top;\n",
       "    }\n",
       "\n",
       "    .dataframe thead th {\n",
       "        text-align: right;\n",
       "    }\n",
       "</style>\n",
       "<table border=\"1\" class=\"dataframe\">\n",
       "  <thead>\n",
       "    <tr style=\"text-align: right;\">\n",
       "      <th></th>\n",
       "      <th>anime_id</th>\n",
       "      <th>name</th>\n",
       "      <th>genre</th>\n",
       "      <th>type</th>\n",
       "      <th>episodes</th>\n",
       "      <th>rating</th>\n",
       "      <th>members</th>\n",
       "    </tr>\n",
       "  </thead>\n",
       "  <tbody>\n",
       "    <tr>\n",
       "      <th>0</th>\n",
       "      <td>32281</td>\n",
       "      <td>Kimi no Na wa.</td>\n",
       "      <td>Drama, Romance, School, Supernatural</td>\n",
       "      <td>Movie</td>\n",
       "      <td>1</td>\n",
       "      <td>9.37</td>\n",
       "      <td>200630</td>\n",
       "    </tr>\n",
       "    <tr>\n",
       "      <th>1</th>\n",
       "      <td>5114</td>\n",
       "      <td>Fullmetal Alchemist: Brotherhood</td>\n",
       "      <td>Action, Adventure, Drama, Fantasy, Magic, Mili...</td>\n",
       "      <td>TV</td>\n",
       "      <td>64</td>\n",
       "      <td>9.26</td>\n",
       "      <td>793665</td>\n",
       "    </tr>\n",
       "    <tr>\n",
       "      <th>2</th>\n",
       "      <td>28977</td>\n",
       "      <td>Gintama°</td>\n",
       "      <td>Action, Comedy, Historical, Parody, Samurai, S...</td>\n",
       "      <td>TV</td>\n",
       "      <td>51</td>\n",
       "      <td>9.25</td>\n",
       "      <td>114262</td>\n",
       "    </tr>\n",
       "    <tr>\n",
       "      <th>3</th>\n",
       "      <td>9253</td>\n",
       "      <td>Steins;Gate</td>\n",
       "      <td>Sci-Fi, Thriller</td>\n",
       "      <td>TV</td>\n",
       "      <td>24</td>\n",
       "      <td>9.17</td>\n",
       "      <td>673572</td>\n",
       "    </tr>\n",
       "    <tr>\n",
       "      <th>4</th>\n",
       "      <td>9969</td>\n",
       "      <td>Gintama&amp;#039;</td>\n",
       "      <td>Action, Comedy, Historical, Parody, Samurai, S...</td>\n",
       "      <td>TV</td>\n",
       "      <td>51</td>\n",
       "      <td>9.16</td>\n",
       "      <td>151266</td>\n",
       "    </tr>\n",
       "  </tbody>\n",
       "</table>\n",
       "</div>"
      ],
      "text/plain": [
       "   anime_id                              name  \\\n",
       "0     32281                    Kimi no Na wa.   \n",
       "1      5114  Fullmetal Alchemist: Brotherhood   \n",
       "2     28977                          Gintama°   \n",
       "3      9253                       Steins;Gate   \n",
       "4      9969                     Gintama&#039;   \n",
       "\n",
       "                                               genre   type episodes  rating  \\\n",
       "0               Drama, Romance, School, Supernatural  Movie        1    9.37   \n",
       "1  Action, Adventure, Drama, Fantasy, Magic, Mili...     TV       64    9.26   \n",
       "2  Action, Comedy, Historical, Parody, Samurai, S...     TV       51    9.25   \n",
       "3                                   Sci-Fi, Thriller     TV       24    9.17   \n",
       "4  Action, Comedy, Historical, Parody, Samurai, S...     TV       51    9.16   \n",
       "\n",
       "   members  \n",
       "0   200630  \n",
       "1   793665  \n",
       "2   114262  \n",
       "3   673572  \n",
       "4   151266  "
      ]
     },
     "execution_count": 3,
     "metadata": {},
     "output_type": "execute_result"
    }
   ],
   "source": [
    "# Display the first 5 rows of the 'anime' DataFrame\n",
    "anime.head()"
   ]
  },
  {
   "cell_type": "code",
   "execution_count": 4,
   "id": "737ac297",
   "metadata": {
    "scrolled": true
   },
   "outputs": [
    {
     "data": {
      "text/html": [
       "<div>\n",
       "<style scoped>\n",
       "    .dataframe tbody tr th:only-of-type {\n",
       "        vertical-align: middle;\n",
       "    }\n",
       "\n",
       "    .dataframe tbody tr th {\n",
       "        vertical-align: top;\n",
       "    }\n",
       "\n",
       "    .dataframe thead th {\n",
       "        text-align: right;\n",
       "    }\n",
       "</style>\n",
       "<table border=\"1\" class=\"dataframe\">\n",
       "  <thead>\n",
       "    <tr style=\"text-align: right;\">\n",
       "      <th></th>\n",
       "      <th>user_id</th>\n",
       "      <th>anime_id</th>\n",
       "      <th>rating</th>\n",
       "    </tr>\n",
       "  </thead>\n",
       "  <tbody>\n",
       "    <tr>\n",
       "      <th>0</th>\n",
       "      <td>1</td>\n",
       "      <td>20</td>\n",
       "      <td>-1</td>\n",
       "    </tr>\n",
       "    <tr>\n",
       "      <th>1</th>\n",
       "      <td>1</td>\n",
       "      <td>24</td>\n",
       "      <td>-1</td>\n",
       "    </tr>\n",
       "    <tr>\n",
       "      <th>2</th>\n",
       "      <td>1</td>\n",
       "      <td>79</td>\n",
       "      <td>-1</td>\n",
       "    </tr>\n",
       "    <tr>\n",
       "      <th>3</th>\n",
       "      <td>1</td>\n",
       "      <td>226</td>\n",
       "      <td>-1</td>\n",
       "    </tr>\n",
       "    <tr>\n",
       "      <th>4</th>\n",
       "      <td>1</td>\n",
       "      <td>241</td>\n",
       "      <td>-1</td>\n",
       "    </tr>\n",
       "  </tbody>\n",
       "</table>\n",
       "</div>"
      ],
      "text/plain": [
       "   user_id  anime_id  rating\n",
       "0        1        20      -1\n",
       "1        1        24      -1\n",
       "2        1        79      -1\n",
       "3        1       226      -1\n",
       "4        1       241      -1"
      ]
     },
     "execution_count": 4,
     "metadata": {},
     "output_type": "execute_result"
    }
   ],
   "source": [
    "# Display the first 5 rows of the 'rating' DataFrame\n",
    "rating.head()"
   ]
  },
  {
   "cell_type": "code",
   "execution_count": 5,
   "id": "3f29bd4c",
   "metadata": {
    "scrolled": true
   },
   "outputs": [
    {
     "data": {
      "text/plain": [
       "(12294, 7)"
      ]
     },
     "execution_count": 5,
     "metadata": {},
     "output_type": "execute_result"
    }
   ],
   "source": [
    "# Return the shape of the 'anime' DataFrame (number of rows and columns)\n",
    "anime.shape"
   ]
  },
  {
   "cell_type": "code",
   "execution_count": 6,
   "id": "0622b299",
   "metadata": {},
   "outputs": [
    {
     "data": {
      "text/plain": [
       "(7813737, 3)"
      ]
     },
     "execution_count": 6,
     "metadata": {},
     "output_type": "execute_result"
    }
   ],
   "source": [
    "# Return the shape of the 'rating' DataFrame (number of rows and columns)\n",
    "rating.shape"
   ]
  },
  {
   "cell_type": "code",
   "execution_count": 7,
   "id": "a2fb16d5",
   "metadata": {},
   "outputs": [
    {
     "data": {
      "text/html": [
       "<div>\n",
       "<style scoped>\n",
       "    .dataframe tbody tr th:only-of-type {\n",
       "        vertical-align: middle;\n",
       "    }\n",
       "\n",
       "    .dataframe tbody tr th {\n",
       "        vertical-align: top;\n",
       "    }\n",
       "\n",
       "    .dataframe thead th {\n",
       "        text-align: right;\n",
       "    }\n",
       "</style>\n",
       "<table border=\"1\" class=\"dataframe\">\n",
       "  <thead>\n",
       "    <tr style=\"text-align: right;\">\n",
       "      <th></th>\n",
       "      <th>anime_id</th>\n",
       "      <th>rating</th>\n",
       "      <th>members</th>\n",
       "    </tr>\n",
       "  </thead>\n",
       "  <tbody>\n",
       "    <tr>\n",
       "      <th>count</th>\n",
       "      <td>12294.000000</td>\n",
       "      <td>12064.000000</td>\n",
       "      <td>1.229400e+04</td>\n",
       "    </tr>\n",
       "    <tr>\n",
       "      <th>mean</th>\n",
       "      <td>14058.221653</td>\n",
       "      <td>6.473902</td>\n",
       "      <td>1.807134e+04</td>\n",
       "    </tr>\n",
       "    <tr>\n",
       "      <th>std</th>\n",
       "      <td>11455.294701</td>\n",
       "      <td>1.026746</td>\n",
       "      <td>5.482068e+04</td>\n",
       "    </tr>\n",
       "    <tr>\n",
       "      <th>min</th>\n",
       "      <td>1.000000</td>\n",
       "      <td>1.670000</td>\n",
       "      <td>5.000000e+00</td>\n",
       "    </tr>\n",
       "    <tr>\n",
       "      <th>25%</th>\n",
       "      <td>3484.250000</td>\n",
       "      <td>5.880000</td>\n",
       "      <td>2.250000e+02</td>\n",
       "    </tr>\n",
       "    <tr>\n",
       "      <th>50%</th>\n",
       "      <td>10260.500000</td>\n",
       "      <td>6.570000</td>\n",
       "      <td>1.550000e+03</td>\n",
       "    </tr>\n",
       "    <tr>\n",
       "      <th>75%</th>\n",
       "      <td>24794.500000</td>\n",
       "      <td>7.180000</td>\n",
       "      <td>9.437000e+03</td>\n",
       "    </tr>\n",
       "    <tr>\n",
       "      <th>max</th>\n",
       "      <td>34527.000000</td>\n",
       "      <td>10.000000</td>\n",
       "      <td>1.013917e+06</td>\n",
       "    </tr>\n",
       "  </tbody>\n",
       "</table>\n",
       "</div>"
      ],
      "text/plain": [
       "           anime_id        rating       members\n",
       "count  12294.000000  12064.000000  1.229400e+04\n",
       "mean   14058.221653      6.473902  1.807134e+04\n",
       "std    11455.294701      1.026746  5.482068e+04\n",
       "min        1.000000      1.670000  5.000000e+00\n",
       "25%     3484.250000      5.880000  2.250000e+02\n",
       "50%    10260.500000      6.570000  1.550000e+03\n",
       "75%    24794.500000      7.180000  9.437000e+03\n",
       "max    34527.000000     10.000000  1.013917e+06"
      ]
     },
     "execution_count": 7,
     "metadata": {},
     "output_type": "execute_result"
    }
   ],
   "source": [
    "# Return a statistical summary of the 'anime' DataFrame's numerical columns\n",
    "anime.describe()"
   ]
  },
  {
   "cell_type": "code",
   "execution_count": 8,
   "id": "3a1d0348",
   "metadata": {},
   "outputs": [
    {
     "data": {
      "text/html": [
       "<div>\n",
       "<style scoped>\n",
       "    .dataframe tbody tr th:only-of-type {\n",
       "        vertical-align: middle;\n",
       "    }\n",
       "\n",
       "    .dataframe tbody tr th {\n",
       "        vertical-align: top;\n",
       "    }\n",
       "\n",
       "    .dataframe thead th {\n",
       "        text-align: right;\n",
       "    }\n",
       "</style>\n",
       "<table border=\"1\" class=\"dataframe\">\n",
       "  <thead>\n",
       "    <tr style=\"text-align: right;\">\n",
       "      <th></th>\n",
       "      <th>user_id</th>\n",
       "      <th>anime_id</th>\n",
       "      <th>rating</th>\n",
       "    </tr>\n",
       "  </thead>\n",
       "  <tbody>\n",
       "    <tr>\n",
       "      <th>count</th>\n",
       "      <td>7.813737e+06</td>\n",
       "      <td>7.813737e+06</td>\n",
       "      <td>7.813737e+06</td>\n",
       "    </tr>\n",
       "    <tr>\n",
       "      <th>mean</th>\n",
       "      <td>3.672796e+04</td>\n",
       "      <td>8.909072e+03</td>\n",
       "      <td>6.144030e+00</td>\n",
       "    </tr>\n",
       "    <tr>\n",
       "      <th>std</th>\n",
       "      <td>2.099795e+04</td>\n",
       "      <td>8.883950e+03</td>\n",
       "      <td>3.727800e+00</td>\n",
       "    </tr>\n",
       "    <tr>\n",
       "      <th>min</th>\n",
       "      <td>1.000000e+00</td>\n",
       "      <td>1.000000e+00</td>\n",
       "      <td>-1.000000e+00</td>\n",
       "    </tr>\n",
       "    <tr>\n",
       "      <th>25%</th>\n",
       "      <td>1.897400e+04</td>\n",
       "      <td>1.240000e+03</td>\n",
       "      <td>6.000000e+00</td>\n",
       "    </tr>\n",
       "    <tr>\n",
       "      <th>50%</th>\n",
       "      <td>3.679100e+04</td>\n",
       "      <td>6.213000e+03</td>\n",
       "      <td>7.000000e+00</td>\n",
       "    </tr>\n",
       "    <tr>\n",
       "      <th>75%</th>\n",
       "      <td>5.475700e+04</td>\n",
       "      <td>1.409300e+04</td>\n",
       "      <td>9.000000e+00</td>\n",
       "    </tr>\n",
       "    <tr>\n",
       "      <th>max</th>\n",
       "      <td>7.351600e+04</td>\n",
       "      <td>3.451900e+04</td>\n",
       "      <td>1.000000e+01</td>\n",
       "    </tr>\n",
       "  </tbody>\n",
       "</table>\n",
       "</div>"
      ],
      "text/plain": [
       "            user_id      anime_id        rating\n",
       "count  7.813737e+06  7.813737e+06  7.813737e+06\n",
       "mean   3.672796e+04  8.909072e+03  6.144030e+00\n",
       "std    2.099795e+04  8.883950e+03  3.727800e+00\n",
       "min    1.000000e+00  1.000000e+00 -1.000000e+00\n",
       "25%    1.897400e+04  1.240000e+03  6.000000e+00\n",
       "50%    3.679100e+04  6.213000e+03  7.000000e+00\n",
       "75%    5.475700e+04  1.409300e+04  9.000000e+00\n",
       "max    7.351600e+04  3.451900e+04  1.000000e+01"
      ]
     },
     "execution_count": 8,
     "metadata": {},
     "output_type": "execute_result"
    }
   ],
   "source": [
    "# Return a statistical summary of the 'rating' DataFrame's numerical columns\n",
    "rating.describe()"
   ]
  },
  {
   "cell_type": "code",
   "execution_count": 9,
   "id": "90f50d6e",
   "metadata": {},
   "outputs": [
    {
     "data": {
      "text/plain": [
       " 8     1646019\n",
       "-1     1476496\n",
       " 7     1375287\n",
       " 9     1254096\n",
       " 10     955715\n",
       " 6      637775\n",
       " 5      282806\n",
       " 4      104291\n",
       " 3       41453\n",
       " 2       23150\n",
       " 1       16649\n",
       "Name: rating, dtype: int64"
      ]
     },
     "execution_count": 9,
     "metadata": {},
     "output_type": "execute_result"
    }
   ],
   "source": [
    "# Return the count of each unique value in the 'rating' DataFrame's 'rating' column.\n",
    "rating.rating.value_counts()"
   ]
  },
  {
   "cell_type": "code",
   "execution_count": 10,
   "id": "abb9af7c",
   "metadata": {},
   "outputs": [],
   "source": [
    "# Drops all rows in the 'rating' DataFrame where the value equal -1\n",
    "rating = rating[rating[\"rating\"] != -1]"
   ]
  },
  {
   "cell_type": "code",
   "execution_count": 11,
   "id": "523de236",
   "metadata": {},
   "outputs": [
    {
     "data": {
      "image/png": "[encoded data removed]",
      "text/plain": [
       "<Figure size 800x600 with 2 Axes>"
      ]
     },
     "metadata": {},
     "output_type": "display_data"
    }
   ],
   "source": [
    "# Set the size of the figure to 8x6 inches\n",
    "plt.figure(figsize=(8,6))\n",
    "\n",
    "# Generate a heatmap showing the missing values in the 'anime' DataFrame using the 'sns.heatmap()' function\n",
    "# The 'cmap' parameter sets the color map to 'YlGnBu'\n",
    "sns.heatmap(anime.isnull(), cmap='YlGnBu')\n",
    "\n",
    "# Set the title of the plot to 'Missing values in anime?' with a fontsize of 15\n",
    "plt.title(\"Missing values in anime?\", fontsize=15)\n",
    "\n",
    "# Display the plot\n",
    "plt.show()"
   ]
  },
  {
   "cell_type": "code",
   "execution_count": 12,
   "id": "055e41ce",
   "metadata": {
    "scrolled": false
   },
   "outputs": [
    {
     "data": {
      "image/png": "[encoded data removed]",
      "text/plain": [
       "<Figure size 800x600 with 2 Axes>"
      ]
     },
     "metadata": {},
     "output_type": "display_data"
    }
   ],
   "source": [
    "# Set the figure size to 8x6 inches\n",
    "plt.figure(figsize=(8,6))\n",
    "\n",
    "# Create a heatmap plot using the 'sns.heatmap()' function to visualize the distribution of missing values in the 'rating' DataFrame\n",
    "# The 'cmap' parameter sets the color map to 'YlGnBu'\n",
    "sns.heatmap(rating.isnull(), cmap='YlGnBu')\n",
    "\n",
    "# Set the title of the plot to 'Missing values in rating?' with a fontsize of 15\n",
    "plt.title(\"Missing values in rating?\", fontsize = 15)\n",
    "\n",
    "# Display the plot\n",
    "plt.show()"
   ]
  },
  {
   "cell_type": "markdown",
   "id": "0a366142",
   "metadata": {},
   "source": [
    "# "
   ]
  },
  {
   "cell_type": "markdown",
   "id": "10ca73fb",
   "metadata": {},
   "source": [
    "## Prepare the data\n",
    "\n",
    "### To create an effective Anime Recommendation System, we need to prepare the data by processing and formatting it correctly."
   ]
  },
  {
   "cell_type": "code",
   "execution_count": 13,
   "id": "b51b45b6",
   "metadata": {
    "scrolled": true
   },
   "outputs": [
    {
     "data": {
      "text/html": [
       "<div>\n",
       "<style scoped>\n",
       "    .dataframe tbody tr th:only-of-type {\n",
       "        vertical-align: middle;\n",
       "    }\n",
       "\n",
       "    .dataframe tbody tr th {\n",
       "        vertical-align: top;\n",
       "    }\n",
       "\n",
       "    .dataframe thead th {\n",
       "        text-align: right;\n",
       "    }\n",
       "</style>\n",
       "<table border=\"1\" class=\"dataframe\">\n",
       "  <thead>\n",
       "    <tr style=\"text-align: right;\">\n",
       "      <th></th>\n",
       "      <th>user_id</th>\n",
       "      <th>anime_id</th>\n",
       "      <th>rating</th>\n",
       "      <th>name</th>\n",
       "    </tr>\n",
       "  </thead>\n",
       "  <tbody>\n",
       "    <tr>\n",
       "      <th>0</th>\n",
       "      <td>1</td>\n",
       "      <td>8074</td>\n",
       "      <td>10</td>\n",
       "      <td>Highschool of the Dead</td>\n",
       "    </tr>\n",
       "    <tr>\n",
       "      <th>1</th>\n",
       "      <td>3</td>\n",
       "      <td>8074</td>\n",
       "      <td>6</td>\n",
       "      <td>Highschool of the Dead</td>\n",
       "    </tr>\n",
       "    <tr>\n",
       "      <th>2</th>\n",
       "      <td>5</td>\n",
       "      <td>8074</td>\n",
       "      <td>2</td>\n",
       "      <td>Highschool of the Dead</td>\n",
       "    </tr>\n",
       "    <tr>\n",
       "      <th>3</th>\n",
       "      <td>12</td>\n",
       "      <td>8074</td>\n",
       "      <td>6</td>\n",
       "      <td>Highschool of the Dead</td>\n",
       "    </tr>\n",
       "    <tr>\n",
       "      <th>4</th>\n",
       "      <td>14</td>\n",
       "      <td>8074</td>\n",
       "      <td>6</td>\n",
       "      <td>Highschool of the Dead</td>\n",
       "    </tr>\n",
       "  </tbody>\n",
       "</table>\n",
       "</div>"
      ],
      "text/plain": [
       "   user_id  anime_id  rating                    name\n",
       "0        1      8074      10  Highschool of the Dead\n",
       "1        3      8074       6  Highschool of the Dead\n",
       "2        5      8074       2  Highschool of the Dead\n",
       "3       12      8074       6  Highschool of the Dead\n",
       "4       14      8074       6  Highschool of the Dead"
      ]
     },
     "execution_count": 13,
     "metadata": {},
     "output_type": "execute_result"
    }
   ],
   "source": [
    "# Combine the 'rating' and 'anime' DataFrames using the 'merge()' function from Pandas\n",
    "# The 'anime_id' column is used as the key to merge the DataFrames\n",
    "df = pd.merge(rating,anime[[\"anime_id\",\"name\"]], left_on = \"anime_id\", right_on = \"anime_id\")\n",
    "\n",
    "# Display the first few rows of the merged DataFrame using the 'head()' function\n",
    "df.head()"
   ]
  },
  {
   "cell_type": "code",
   "execution_count": 14,
   "id": "3b467990",
   "metadata": {},
   "outputs": [
    {
     "data": {
      "text/plain": [
       "(6337239, 4)"
      ]
     },
     "execution_count": 14,
     "metadata": {},
     "output_type": "execute_result"
    }
   ],
   "source": [
    "# Return the shape of the 'df' DataFrame (number of rows and columns)\n",
    "df.shape"
   ]
  },
  {
   "cell_type": "code",
   "execution_count": 15,
   "id": "6bd040fd",
   "metadata": {
    "scrolled": false
   },
   "outputs": [
    {
     "data": {
      "text/plain": [
       "name\n",
       "Death Note                         34226\n",
       "Sword Art Online                   26310\n",
       "Shingeki no Kyojin                 25290\n",
       "Code Geass: Hangyaku no Lelouch    24126\n",
       "Angel Beats!                       23565\n",
       "                                   ...  \n",
       "La Primavera                           1\n",
       "Chou Zenmairobo: Patrasche             1\n",
       "Ushi Atama                             1\n",
       "Gun-dou Musashi Recap                  1\n",
       "Futago no Ookami Daibouken             1\n",
       "Name: rating, Length: 9926, dtype: int64"
      ]
     },
     "execution_count": 15,
     "metadata": {},
     "output_type": "execute_result"
    }
   ],
   "source": [
    "# Group the 'df' DataFrame by the 'name' column, and count the number of ratings for each anime\n",
    "rat_count = df.groupby(\"name\")[\"rating\"].count()\n",
    "\n",
    "# Sort the values in 'rat_count' in descending order\n",
    "rat_count = rat_count.sort_values(ascending = False)\n",
    "\n",
    "# Display 'rat_count'\n",
    "rat_count"
   ]
  },
  {
   "cell_type": "code",
   "execution_count": 16,
   "id": "2761fccd",
   "metadata": {},
   "outputs": [],
   "source": [
    "# Set the limit of the minimum number of ratings to 5000\n",
    "limit = 5000\n",
    "\n",
    "# Find the names of anime with ratings greater than or equal to the 'limit'\n",
    "over_limit = rat_count[rat_count.apply(lambda x: x >= limit)].index\n",
    "\n",
    "# Selecting the rows in 'df' where the 'name' column is in the 'over_limit' index\n",
    "final_df = df[df['name'].apply(lambda x: x in over_limit)]"
   ]
  },
  {
   "cell_type": "code",
   "execution_count": 17,
   "id": "aaddd484",
   "metadata": {},
   "outputs": [
    {
     "data": {
      "text/plain": [
       "(2517097, 4)"
      ]
     },
     "execution_count": 17,
     "metadata": {},
     "output_type": "execute_result"
    }
   ],
   "source": [
    "# Return the shape of the 'final_df' DataFrame (number of rows and columns)\n",
    "final_df.shape"
   ]
  },
  {
   "cell_type": "markdown",
   "id": "c320d0e0",
   "metadata": {},
   "source": [
    "# "
   ]
  },
  {
   "cell_type": "markdown",
   "id": "42e8cbe6",
   "metadata": {},
   "source": [
    "## Recommendation System\n",
    "\n",
    "### A recommendation system is an algorithmic approach to suggest items of interest to users based on their past interactions with a system."
   ]
  },
  {
   "cell_type": "code",
   "execution_count": 18,
   "id": "09883113",
   "metadata": {},
   "outputs": [
    {
     "data": {
      "text/html": [
       "<div>\n",
       "<style scoped>\n",
       "    .dataframe tbody tr th:only-of-type {\n",
       "        vertical-align: middle;\n",
       "    }\n",
       "\n",
       "    .dataframe tbody tr th {\n",
       "        vertical-align: top;\n",
       "    }\n",
       "\n",
       "    .dataframe thead th {\n",
       "        text-align: right;\n",
       "    }\n",
       "</style>\n",
       "<table border=\"1\" class=\"dataframe\">\n",
       "  <thead>\n",
       "    <tr style=\"text-align: right;\">\n",
       "      <th>name</th>\n",
       "      <th>Accel World</th>\n",
       "      <th>Afro Samurai</th>\n",
       "      <th>Air</th>\n",
       "      <th>Air Gear</th>\n",
       "      <th>Akame ga Kill!</th>\n",
       "    </tr>\n",
       "    <tr>\n",
       "      <th>user_id</th>\n",
       "      <th></th>\n",
       "      <th></th>\n",
       "      <th></th>\n",
       "      <th></th>\n",
       "      <th></th>\n",
       "    </tr>\n",
       "  </thead>\n",
       "  <tbody>\n",
       "    <tr>\n",
       "      <th>1</th>\n",
       "      <td>NaN</td>\n",
       "      <td>NaN</td>\n",
       "      <td>NaN</td>\n",
       "      <td>NaN</td>\n",
       "      <td>NaN</td>\n",
       "    </tr>\n",
       "    <tr>\n",
       "      <th>2</th>\n",
       "      <td>NaN</td>\n",
       "      <td>NaN</td>\n",
       "      <td>NaN</td>\n",
       "      <td>NaN</td>\n",
       "      <td>NaN</td>\n",
       "    </tr>\n",
       "    <tr>\n",
       "      <th>3</th>\n",
       "      <td>7.0</td>\n",
       "      <td>6.0</td>\n",
       "      <td>NaN</td>\n",
       "      <td>NaN</td>\n",
       "      <td>8.0</td>\n",
       "    </tr>\n",
       "    <tr>\n",
       "      <th>5</th>\n",
       "      <td>3.0</td>\n",
       "      <td>NaN</td>\n",
       "      <td>NaN</td>\n",
       "      <td>NaN</td>\n",
       "      <td>4.0</td>\n",
       "    </tr>\n",
       "    <tr>\n",
       "      <th>7</th>\n",
       "      <td>8.0</td>\n",
       "      <td>NaN</td>\n",
       "      <td>NaN</td>\n",
       "      <td>NaN</td>\n",
       "      <td>NaN</td>\n",
       "    </tr>\n",
       "  </tbody>\n",
       "</table>\n",
       "</div>"
      ],
      "text/plain": [
       "name     Accel World  Afro Samurai  Air  Air Gear  Akame ga Kill!\n",
       "user_id                                                          \n",
       "1                NaN           NaN  NaN       NaN             NaN\n",
       "2                NaN           NaN  NaN       NaN             NaN\n",
       "3                7.0           6.0  NaN       NaN             8.0\n",
       "5                3.0           NaN  NaN       NaN             4.0\n",
       "7                8.0           NaN  NaN       NaN             NaN"
      ]
     },
     "execution_count": 18,
     "metadata": {},
     "output_type": "execute_result"
    }
   ],
   "source": [
    "# Create a pivot table 'recom' from the 'final_df' DataFrame\n",
    "recom = final_df.pivot_table(index='user_id',columns='name',values='rating')\n",
    "\n",
    "# Display the first 5 rows and columns of the 'recom' pivot table\n",
    "recom.iloc[:5,:5]"
   ]
  },
  {
   "cell_type": "code",
   "execution_count": 19,
   "id": "774b8947",
   "metadata": {},
   "outputs": [
    {
     "data": {
      "text/plain": [
       "Death Note                                      34226\n",
       "Sword Art Online                                26310\n",
       "Shingeki no Kyojin                              25290\n",
       "Code Geass: Hangyaku no Lelouch                 24126\n",
       "Angel Beats!                                    23565\n",
       "                                                ...  \n",
       "Sayonara Zetsubou Sensei                         5108\n",
       "Natsume Yuujinchou                               5080\n",
       "Ookami-san to Shichinin no Nakama-tachi          5063\n",
       "Pokemon: Mewtwo no Gyakushuu                     5038\n",
       "Darker than Black: Kuro no Keiyakusha Gaiden     5023\n",
       "Name: name, Length: 279, dtype: int64"
      ]
     },
     "execution_count": 19,
     "metadata": {},
     "output_type": "execute_result"
    }
   ],
   "source": [
    "# Returns the count of the number of occurrences of each unique value\n",
    "final_df.name.value_counts()"
   ]
  },
  {
   "cell_type": "code",
   "execution_count": 20,
   "id": "2d966ea6",
   "metadata": {},
   "outputs": [],
   "source": [
    "# Define a function 'corr' that takes in two arguments\n",
    "def corr(df, name):\n",
    "    \n",
    "    # Compute the correlation between the 'name' column and every other column in the DataFrame\n",
    "    similar = df.corrwith(df[name])\n",
    "    \n",
    "    # Convert the resulting Series into a DataFrame named 'similar'\n",
    "    similar = pd.DataFrame(similar,columns=['Correlation'])\n",
    "    \n",
    "    # Sort the values in the 'similar' DataFrame in descending order of correlation\n",
    "    similar = similar.sort_values(by = 'Correlation', ascending = False)\n",
    "    \n",
    "    # Return the 'similar' DataFrame\n",
    "    return similar\n"
   ]
  },
  {
   "cell_type": "markdown",
   "id": "b5e02436",
   "metadata": {},
   "source": [
    "# "
   ]
  },
  {
   "cell_type": "markdown",
   "id": "0640ed3e",
   "metadata": {},
   "source": [
    "## Recommendations\n",
    "\n",
    "### Recommendations are personalized suggestions provided to users based on their interests, preferences, and behavior."
   ]
  },
  {
   "cell_type": "code",
   "execution_count": 21,
   "id": "8f12c496",
   "metadata": {
    "scrolled": false
   },
   "outputs": [
    {
     "data": {
      "text/html": [
       "<div>\n",
       "<style scoped>\n",
       "    .dataframe tbody tr th:only-of-type {\n",
       "        vertical-align: middle;\n",
       "    }\n",
       "\n",
       "    .dataframe tbody tr th {\n",
       "        vertical-align: top;\n",
       "    }\n",
       "\n",
       "    .dataframe thead th {\n",
       "        text-align: right;\n",
       "    }\n",
       "</style>\n",
       "<table border=\"1\" class=\"dataframe\">\n",
       "  <thead>\n",
       "    <tr style=\"text-align: right;\">\n",
       "      <th></th>\n",
       "      <th>Correlation</th>\n",
       "    </tr>\n",
       "    <tr>\n",
       "      <th>name</th>\n",
       "      <th></th>\n",
       "    </tr>\n",
       "  </thead>\n",
       "  <tbody>\n",
       "    <tr>\n",
       "      <th>Bleach</th>\n",
       "      <td>1.000000</td>\n",
       "    </tr>\n",
       "    <tr>\n",
       "      <th>Bleach Movie 3: Fade to Black - Kimi no Na wo Yobu</th>\n",
       "      <td>0.594286</td>\n",
       "    </tr>\n",
       "    <tr>\n",
       "      <th>Bleach Movie 2: The DiamondDust Rebellion - Mou Hitotsu no Hyourinmaru</th>\n",
       "      <td>0.566628</td>\n",
       "    </tr>\n",
       "    <tr>\n",
       "      <th>Naruto</th>\n",
       "      <td>0.547983</td>\n",
       "    </tr>\n",
       "    <tr>\n",
       "      <th>Fairy Tail</th>\n",
       "      <td>0.541162</td>\n",
       "    </tr>\n",
       "    <tr>\n",
       "      <th>Naruto: Shippuuden Movie 1</th>\n",
       "      <td>0.508501</td>\n",
       "    </tr>\n",
       "    <tr>\n",
       "      <th>Bleach Movie 1: Memories of Nobody</th>\n",
       "      <td>0.504684</td>\n",
       "    </tr>\n",
       "    <tr>\n",
       "      <th>Dragon Ball GT</th>\n",
       "      <td>0.482405</td>\n",
       "    </tr>\n",
       "    <tr>\n",
       "      <th>Katekyo Hitman Reborn!</th>\n",
       "      <td>0.480154</td>\n",
       "    </tr>\n",
       "    <tr>\n",
       "      <th>Ao no Exorcist</th>\n",
       "      <td>0.478665</td>\n",
       "    </tr>\n",
       "  </tbody>\n",
       "</table>\n",
       "</div>"
      ],
      "text/plain": [
       "                                                    Correlation\n",
       "name                                                           \n",
       "Bleach                                                 1.000000\n",
       "Bleach Movie 3: Fade to Black - Kimi no Na wo Yobu     0.594286\n",
       "Bleach Movie 2: The DiamondDust Rebellion - Mou...     0.566628\n",
       "Naruto                                                 0.547983\n",
       "Fairy Tail                                             0.541162\n",
       "Naruto: Shippuuden Movie 1                             0.508501\n",
       "Bleach Movie 1: Memories of Nobody                     0.504684\n",
       "Dragon Ball GT                                         0.482405\n",
       "Katekyo Hitman Reborn!                                 0.480154\n",
       "Ao no Exorcist                                         0.478665"
      ]
     },
     "execution_count": 21,
     "metadata": {},
     "output_type": "execute_result"
    }
   ],
   "source": [
    "anime = 'Bleach'\n",
    "\n",
    "# Returns a DataFrame that shows the top 10 animes with the highest correlation to 'anime'\n",
    "corr(recom, anime).head(10)"
   ]
  },
  {
   "cell_type": "code",
   "execution_count": 22,
   "id": "a8b55c34",
   "metadata": {
    "scrolled": false
   },
   "outputs": [
    {
     "data": {
      "text/html": [
       "<div>\n",
       "<style scoped>\n",
       "    .dataframe tbody tr th:only-of-type {\n",
       "        vertical-align: middle;\n",
       "    }\n",
       "\n",
       "    .dataframe tbody tr th {\n",
       "        vertical-align: top;\n",
       "    }\n",
       "\n",
       "    .dataframe thead th {\n",
       "        text-align: right;\n",
       "    }\n",
       "</style>\n",
       "<table border=\"1\" class=\"dataframe\">\n",
       "  <thead>\n",
       "    <tr style=\"text-align: right;\">\n",
       "      <th></th>\n",
       "      <th>Correlation</th>\n",
       "    </tr>\n",
       "    <tr>\n",
       "      <th>name</th>\n",
       "      <th></th>\n",
       "    </tr>\n",
       "  </thead>\n",
       "  <tbody>\n",
       "    <tr>\n",
       "      <th>Dragon Ball GT</th>\n",
       "      <td>1.000000</td>\n",
       "    </tr>\n",
       "    <tr>\n",
       "      <th>Dragon Ball Z</th>\n",
       "      <td>0.519401</td>\n",
       "    </tr>\n",
       "    <tr>\n",
       "      <th>Bleach</th>\n",
       "      <td>0.482405</td>\n",
       "    </tr>\n",
       "    <tr>\n",
       "      <th>Dragon Ball</th>\n",
       "      <td>0.481594</td>\n",
       "    </tr>\n",
       "    <tr>\n",
       "      <th>InuYasha</th>\n",
       "      <td>0.469370</td>\n",
       "    </tr>\n",
       "    <tr>\n",
       "      <th>Fairy Tail</th>\n",
       "      <td>0.466178</td>\n",
       "    </tr>\n",
       "    <tr>\n",
       "      <th>Naruto: Shippuuden Movie 1</th>\n",
       "      <td>0.464253</td>\n",
       "    </tr>\n",
       "    <tr>\n",
       "      <th>Bleach Movie 2: The DiamondDust Rebellion - Mou Hitotsu no Hyourinmaru</th>\n",
       "      <td>0.455629</td>\n",
       "    </tr>\n",
       "    <tr>\n",
       "      <th>Naruto Movie 1: Dai Katsugeki!! Yuki Hime Shinobu Houjou Dattebayo!</th>\n",
       "      <td>0.451550</td>\n",
       "    </tr>\n",
       "    <tr>\n",
       "      <th>Digimon Adventure 02</th>\n",
       "      <td>0.450959</td>\n",
       "    </tr>\n",
       "  </tbody>\n",
       "</table>\n",
       "</div>"
      ],
      "text/plain": [
       "                                                    Correlation\n",
       "name                                                           \n",
       "Dragon Ball GT                                         1.000000\n",
       "Dragon Ball Z                                          0.519401\n",
       "Bleach                                                 0.482405\n",
       "Dragon Ball                                            0.481594\n",
       "InuYasha                                               0.469370\n",
       "Fairy Tail                                             0.466178\n",
       "Naruto: Shippuuden Movie 1                             0.464253\n",
       "Bleach Movie 2: The DiamondDust Rebellion - Mou...     0.455629\n",
       "Naruto Movie 1: Dai Katsugeki!! Yuki Hime Shino...     0.451550\n",
       "Digimon Adventure 02                                   0.450959"
      ]
     },
     "execution_count": 22,
     "metadata": {},
     "output_type": "execute_result"
    }
   ],
   "source": [
    "anime1 = 'Dragon Ball GT'\n",
    "\n",
    "# Returns a DataFrame that shows the top 10 animes with the highest correlation to 'anime1'\n",
    "corr(recom, anime1).head(10)"
   ]
  },
  {
   "cell_type": "code",
   "execution_count": 23,
   "id": "184194bb",
   "metadata": {
    "scrolled": false
   },
   "outputs": [
    {
     "data": {
      "text/html": [
       "<div>\n",
       "<style scoped>\n",
       "    .dataframe tbody tr th:only-of-type {\n",
       "        vertical-align: middle;\n",
       "    }\n",
       "\n",
       "    .dataframe tbody tr th {\n",
       "        vertical-align: top;\n",
       "    }\n",
       "\n",
       "    .dataframe thead th {\n",
       "        text-align: right;\n",
       "    }\n",
       "</style>\n",
       "<table border=\"1\" class=\"dataframe\">\n",
       "  <thead>\n",
       "    <tr style=\"text-align: right;\">\n",
       "      <th></th>\n",
       "      <th>Correlation</th>\n",
       "    </tr>\n",
       "    <tr>\n",
       "      <th>name</th>\n",
       "      <th></th>\n",
       "    </tr>\n",
       "  </thead>\n",
       "  <tbody>\n",
       "    <tr>\n",
       "      <th>Naruto</th>\n",
       "      <td>1.000000</td>\n",
       "    </tr>\n",
       "    <tr>\n",
       "      <th>Naruto Movie 1: Dai Katsugeki!! Yuki Hime Shinobu Houjou Dattebayo!</th>\n",
       "      <td>0.582344</td>\n",
       "    </tr>\n",
       "    <tr>\n",
       "      <th>Naruto: Shippuuden Movie 1</th>\n",
       "      <td>0.578797</td>\n",
       "    </tr>\n",
       "    <tr>\n",
       "      <th>Bleach</th>\n",
       "      <td>0.547983</td>\n",
       "    </tr>\n",
       "    <tr>\n",
       "      <th>Fairy Tail</th>\n",
       "      <td>0.444271</td>\n",
       "    </tr>\n",
       "    <tr>\n",
       "      <th>Bleach Movie 2: The DiamondDust Rebellion - Mou Hitotsu no Hyourinmaru</th>\n",
       "      <td>0.439225</td>\n",
       "    </tr>\n",
       "    <tr>\n",
       "      <th>Dragon Ball Z</th>\n",
       "      <td>0.437442</td>\n",
       "    </tr>\n",
       "    <tr>\n",
       "      <th>InuYasha</th>\n",
       "      <td>0.433100</td>\n",
       "    </tr>\n",
       "    <tr>\n",
       "      <th>Dragon Ball GT</th>\n",
       "      <td>0.429704</td>\n",
       "    </tr>\n",
       "    <tr>\n",
       "      <th>Katekyo Hitman Reborn!</th>\n",
       "      <td>0.419789</td>\n",
       "    </tr>\n",
       "  </tbody>\n",
       "</table>\n",
       "</div>"
      ],
      "text/plain": [
       "                                                    Correlation\n",
       "name                                                           \n",
       "Naruto                                                 1.000000\n",
       "Naruto Movie 1: Dai Katsugeki!! Yuki Hime Shino...     0.582344\n",
       "Naruto: Shippuuden Movie 1                             0.578797\n",
       "Bleach                                                 0.547983\n",
       "Fairy Tail                                             0.444271\n",
       "Bleach Movie 2: The DiamondDust Rebellion - Mou...     0.439225\n",
       "Dragon Ball Z                                          0.437442\n",
       "InuYasha                                               0.433100\n",
       "Dragon Ball GT                                         0.429704\n",
       "Katekyo Hitman Reborn!                                 0.419789"
      ]
     },
     "execution_count": 23,
     "metadata": {},
     "output_type": "execute_result"
    }
   ],
   "source": [
    "anime2 = 'Naruto'\n",
    "\n",
    "# Returns a DataFrame that shows the top 10 animes with the highest correlation to 'anime2'\n",
    "corr(recom, anime2).head(10)"
   ]
  },
  {
   "cell_type": "markdown",
   "id": "8eb6fb04",
   "metadata": {},
   "source": [
    "# "
   ]
  },
  {
   "cell_type": "markdown",
   "id": "852df8e8",
   "metadata": {},
   "source": [
    "## Summary"
   ]
  },
  {
   "cell_type": "markdown",
   "id": "05464143",
   "metadata": {},
   "source": [
    "### Overall, recommendation systems are widely used in various industries, including e-commerce, entertainment, and social media, to personalize content and improve user engagement."
   ]
  }
 ],
 "metadata": {
  "kernelspec": {
   "display_name": "Python 3 (ipykernel)",
   "language": "python",
   "name": "python3"
  },
  "language_info": {
   "codemirror_mode": {
    "name": "ipython",
    "version": 3
   },
   "file_extension": ".py",
   "mimetype": "text/x-python",
   "name": "python",
   "nbconvert_exporter": "python",
   "pygments_lexer": "ipython3",
   "version": "3.9.13"
  }
 },
 "nbformat": 4,
 "nbformat_minor": 5
}
